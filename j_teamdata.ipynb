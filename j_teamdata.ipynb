{
  "cells": [
    {
      "cell_type": "markdown",
      "metadata": {
        "colab_type": "text",
        "id": "view-in-github"
      },
      "source": [
        "<a href=\"https://colab.research.google.com/github/u-10bei/J-League_Ratings/blob/main/j_teamdata.ipynb\" target=\"_parent\"><img src=\"https://colab.research.google.com/assets/colab-badge.svg\" alt=\"Open In Colab\"/></a>"
      ]
    },
    {
      "cell_type": "code",
      "execution_count": 1,
      "metadata": {
        "id": "MhF0DNQkKWqW"
      },
      "outputs": [
        {
          "data": {
            "text/html": [
              "<div>\n",
              "<style scoped>\n",
              "    .dataframe tbody tr th:only-of-type {\n",
              "        vertical-align: middle;\n",
              "    }\n",
              "\n",
              "    .dataframe tbody tr th {\n",
              "        vertical-align: top;\n",
              "    }\n",
              "\n",
              "    .dataframe thead th {\n",
              "        text-align: right;\n",
              "    }\n",
              "</style>\n",
              "<table border=\"1\" class=\"dataframe\">\n",
              "  <thead>\n",
              "    <tr style=\"text-align: right;\">\n",
              "      <th></th>\n",
              "      <th>Unnamed: 0</th>\n",
              "      <th>competition</th>\n",
              "      <th>period</th>\n",
              "      <th>kickoff_time</th>\n",
              "      <th>home_team</th>\n",
              "      <th>away_team</th>\n",
              "      <th>stadium</th>\n",
              "      <th>attendance</th>\n",
              "      <th>match_day</th>\n",
              "      <th>home_score</th>\n",
              "      <th>away_score</th>\n",
              "    </tr>\n",
              "  </thead>\n",
              "  <tbody>\n",
              "    <tr>\n",
              "      <th>0</th>\n",
              "      <td>0</td>\n",
              "      <td>Ｊ１ サントリー</td>\n",
              "      <td>第１節第１日</td>\n",
              "      <td>19:29</td>\n",
              "      <td>Ｖ川崎</td>\n",
              "      <td>横浜M</td>\n",
              "      <td>国立</td>\n",
              "      <td>59626</td>\n",
              "      <td>1993-05-15</td>\n",
              "      <td>1</td>\n",
              "      <td>2</td>\n",
              "    </tr>\n",
              "    <tr>\n",
              "      <th>1</th>\n",
              "      <td>1</td>\n",
              "      <td>Ｊ１ サントリー</td>\n",
              "      <td>第１節第２日</td>\n",
              "      <td>13:05</td>\n",
              "      <td>横浜Ｆ</td>\n",
              "      <td>清水</td>\n",
              "      <td>三ツ沢</td>\n",
              "      <td>14126</td>\n",
              "      <td>1993-05-16</td>\n",
              "      <td>3</td>\n",
              "      <td>2</td>\n",
              "    </tr>\n",
              "    <tr>\n",
              "      <th>2</th>\n",
              "      <td>2</td>\n",
              "      <td>Ｊ１ サントリー</td>\n",
              "      <td>第１節第２日</td>\n",
              "      <td>13:59</td>\n",
              "      <td>広島</td>\n",
              "      <td>市原</td>\n",
              "      <td>広島ス</td>\n",
              "      <td>11875</td>\n",
              "      <td>1993-05-16</td>\n",
              "      <td>2</td>\n",
              "      <td>1</td>\n",
              "    </tr>\n",
              "    <tr>\n",
              "      <th>3</th>\n",
              "      <td>3</td>\n",
              "      <td>Ｊ１ サントリー</td>\n",
              "      <td>第１節第２日</td>\n",
              "      <td>16:00</td>\n",
              "      <td>鹿島</td>\n",
              "      <td>名古屋</td>\n",
              "      <td>カシマ</td>\n",
              "      <td>10898</td>\n",
              "      <td>1993-05-16</td>\n",
              "      <td>5</td>\n",
              "      <td>0</td>\n",
              "    </tr>\n",
              "    <tr>\n",
              "      <th>4</th>\n",
              "      <td>4</td>\n",
              "      <td>Ｊ１ サントリー</td>\n",
              "      <td>第１節第２日</td>\n",
              "      <td>19:04</td>\n",
              "      <td>Ｇ大阪</td>\n",
              "      <td>浦和</td>\n",
              "      <td>万博</td>\n",
              "      <td>19580</td>\n",
              "      <td>1993-05-16</td>\n",
              "      <td>1</td>\n",
              "      <td>0</td>\n",
              "    </tr>\n",
              "  </tbody>\n",
              "</table>\n",
              "</div>"
            ],
            "text/plain": [
              "   Unnamed: 0 competition  period kickoff_time home_team away_team stadium  \\\n",
              "0           0    Ｊ１ サントリー  第１節第１日        19:29       Ｖ川崎       横浜M      国立   \n",
              "1           1    Ｊ１ サントリー  第１節第２日        13:05       横浜Ｆ        清水     三ツ沢   \n",
              "2           2    Ｊ１ サントリー  第１節第２日        13:59        広島        市原     広島ス   \n",
              "3           3    Ｊ１ サントリー  第１節第２日        16:00        鹿島       名古屋     カシマ   \n",
              "4           4    Ｊ１ サントリー  第１節第２日        19:04       Ｇ大阪        浦和      万博   \n",
              "\n",
              "   attendance   match_day  home_score away_score  \n",
              "0       59626  1993-05-15           1          2  \n",
              "1       14126  1993-05-16           3          2  \n",
              "2       11875  1993-05-16           2          1  \n",
              "3       10898  1993-05-16           5          0  \n",
              "4       19580  1993-05-16           1          0  "
            ]
          },
          "execution_count": 1,
          "metadata": {},
          "output_type": "execute_result"
        }
      ],
      "source": [
        "import pandas as pd\n",
        "from util import credential as cred\n",
        "match_data = pd.read_csv(cred.IPATH)\n",
        "match_data.head()"
      ]
    },
    {
      "cell_type": "code",
      "execution_count": 2,
      "metadata": {
        "id": "gHcJe9P2LUVD"
      },
      "outputs": [],
      "source": [
        "team_home = match_data.loc[:,['home_team','match_day']]\n",
        "team_home.rename(columns={'home_team':'team'}, inplace=True)\n",
        "team_away = match_data.loc[:,['away_team','match_day']]\n",
        "team_away.rename(columns={'away_team':'team'}, inplace=True)\n",
        "team_data = pd.concat([team_home, team_away])"
      ]
    },
    {
      "cell_type": "code",
      "execution_count": 3,
      "metadata": {
        "id": "QMBe7J8bOTJR"
      },
      "outputs": [],
      "source": [
        "team_min = team_data.groupby('team').min()\n",
        "team_min.rename(columns={'match_day':'oldest'}, inplace=True)\n",
        "team_max = team_data.groupby('team').max()\n",
        "team_max.rename(columns={'match_day':'newest'}, inplace=True)\n",
        "team_master = pd.concat([team_min,team_max],axis=1,join='inner')"
      ]
    },
    {
      "cell_type": "code",
      "execution_count": 4,
      "metadata": {
        "id": "yRNOT2vuRfyO"
      },
      "outputs": [],
      "source": [
        "team_master.to_csv(cred.OPATH)"
      ]
    }
  ],
  "metadata": {
    "colab": {
      "authorship_tag": "ABX9TyNeIch1T8UMFwIAZ+hlXDK8",
      "collapsed_sections": [],
      "include_colab_link": true,
      "mount_file_id": "1FC6-dfzcU91DqmyzJj1SxUWySxz1hgjq",
      "name": "j_teamdata.ipynb",
      "provenance": []
    },
    "kernelspec": {
      "display_name": "Python 3.10.6 64-bit",
      "language": "python",
      "name": "python3"
    },
    "language_info": {
      "codemirror_mode": {
        "name": "ipython",
        "version": 3
      },
      "file_extension": ".py",
      "mimetype": "text/x-python",
      "name": "python",
      "nbconvert_exporter": "python",
      "pygments_lexer": "ipython3",
      "version": "3.10.6"
    },
    "vscode": {
      "interpreter": {
        "hash": "604dd8b9607e532f6a8313c52d363d10b94f28df6ff34c90bede0dd52a22c55f"
      }
    }
  },
  "nbformat": 4,
  "nbformat_minor": 0
}

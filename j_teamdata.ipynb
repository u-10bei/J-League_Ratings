{
  "cells": [
    {
      "cell_type": "markdown",
      "metadata": {
        "colab_type": "text",
        "id": "view-in-github"
      },
      "source": [
        "<a href=\"https://colab.research.google.com/github/u-10bei/J-League_Ratings/blob/main/j_teamdata.ipynb\" target=\"_parent\"><img src=\"https://colab.research.google.com/assets/colab-badge.svg\" alt=\"Open In Colab\"/></a>"
      ]
    },
    {
      "cell_type": "code",
      "execution_count": 9,
      "metadata": {
        "id": "MhF0DNQkKWqW"
      },
      "outputs": [
        {
          "ename": "ModuleNotFoundError",
          "evalue": "No module named 'credential'",
          "output_type": "error",
          "traceback": [
            "\u001b[1;31m---------------------------------------------------------------------------\u001b[0m",
            "\u001b[1;31mModuleNotFoundError\u001b[0m                       Traceback (most recent call last)",
            "\u001b[1;32mセル2 を c:\\Users\\holy1\\Documents\\R\\J-League_Ratings\\j_teamdata.ipynb\u001b[0m in \u001b[0;36m<cell line: 2>\u001b[1;34m()\u001b[0m\n\u001b[0;32m      <a href='vscode-notebook-cell:/c%3A/Users/holy1/Documents/R/J-League_Ratings/j_teamdata.ipynb#W3sZmlsZQ%3D%3D?line=0'>1</a>\u001b[0m \u001b[39mimport\u001b[39;00m \u001b[39mpandas\u001b[39;00m \u001b[39mas\u001b[39;00m \u001b[39mpd\u001b[39;00m\n\u001b[1;32m----> <a href='vscode-notebook-cell:/c%3A/Users/holy1/Documents/R/J-League_Ratings/j_teamdata.ipynb#W3sZmlsZQ%3D%3D?line=1'>2</a>\u001b[0m \u001b[39mimport\u001b[39;00m \u001b[39mcredential\u001b[39;00m\n\u001b[0;32m      <a href='vscode-notebook-cell:/c%3A/Users/holy1/Documents/R/J-League_Ratings/j_teamdata.ipynb#W3sZmlsZQ%3D%3D?line=2'>3</a>\u001b[0m match_data \u001b[39m=\u001b[39m pd\u001b[39m.\u001b[39mread_csv(IPATH)\n\u001b[0;32m      <a href='vscode-notebook-cell:/c%3A/Users/holy1/Documents/R/J-League_Ratings/j_teamdata.ipynb#W3sZmlsZQ%3D%3D?line=3'>4</a>\u001b[0m match_data\u001b[39m.\u001b[39mhead()\n",
            "\u001b[1;31mModuleNotFoundError\u001b[0m: No module named 'credential'"
          ]
        }
      ],
      "source": [
        "import pandas as pd\n",
        "import credential\n",
        "match_data = pd.read_csv(IPATH)\n",
        "match_data.head()"
      ]
    },
    {
      "cell_type": "code",
      "execution_count": null,
      "metadata": {
        "id": "gHcJe9P2LUVD"
      },
      "outputs": [],
      "source": [
        "team_home = match_data.loc[:,['home_team','match_day']]\n",
        "team_home.rename(columns={'home_team':'team'}, inplace=True)\n",
        "team_away = match_data.loc[:,['away_team','match_day']]\n",
        "team_away.rename(columns={'away_team':'team'}, inplace=True)\n",
        "team_data = pd.concat([team_home, team_away])"
      ]
    },
    {
      "cell_type": "code",
      "execution_count": null,
      "metadata": {
        "id": "QMBe7J8bOTJR"
      },
      "outputs": [],
      "source": [
        "team_min = team_data.groupby('team').min()\n",
        "team_min.rename(columns={'match_day':'oldest'}, inplace=True)\n",
        "team_max = team_data.groupby('team').max()\n",
        "team_max.rename(columns={'match_day':'newest'}, inplace=True)\n",
        "team_master = pd.concat([team_min,team_max],axis=1,join='inner')"
      ]
    },
    {
      "cell_type": "code",
      "execution_count": null,
      "metadata": {
        "id": "yRNOT2vuRfyO"
      },
      "outputs": [],
      "source": [
        "team_master.to_csv(cred.output_path)"
      ]
    }
  ],
  "metadata": {
    "colab": {
      "authorship_tag": "ABX9TyNeIch1T8UMFwIAZ+hlXDK8",
      "collapsed_sections": [],
      "include_colab_link": true,
      "mount_file_id": "1FC6-dfzcU91DqmyzJj1SxUWySxz1hgjq",
      "name": "j_teamdata.ipynb",
      "provenance": []
    },
    "kernelspec": {
      "display_name": "Python 3.10.6 64-bit",
      "language": "python",
      "name": "python3"
    },
    "language_info": {
      "codemirror_mode": {
        "name": "ipython",
        "version": 3
      },
      "file_extension": ".py",
      "mimetype": "text/x-python",
      "name": "python",
      "nbconvert_exporter": "python",
      "pygments_lexer": "ipython3",
      "version": "3.10.6"
    },
    "vscode": {
      "interpreter": {
        "hash": "604dd8b9607e532f6a8313c52d363d10b94f28df6ff34c90bede0dd52a22c55f"
      }
    }
  },
  "nbformat": 4,
  "nbformat_minor": 0
}

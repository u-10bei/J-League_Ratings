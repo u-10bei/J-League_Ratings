{
  "nbformat": 4,
  "nbformat_minor": 0,
  "metadata": {
    "colab": {
      "name": "j_teamdata.ipynb",
      "provenance": [],
      "collapsed_sections": [],
      "mount_file_id": "1FC6-dfzcU91DqmyzJj1SxUWySxz1hgjq",
      "authorship_tag": "ABX9TyNeIch1T8UMFwIAZ+hlXDK8",
      "include_colab_link": true
    },
    "kernelspec": {
      "name": "python3",
      "display_name": "Python 3"
    },
    "language_info": {
      "name": "python"
    }
  },
  "cells": [
    {
      "cell_type": "markdown",
      "metadata": {
        "id": "view-in-github",
        "colab_type": "text"
      },
      "source": [
        "<a href=\"https://colab.research.google.com/github/u-10bei/J-League_Ratings/blob/main/j_teamdata.ipynb\" target=\"_parent\"><img src=\"https://colab.research.google.com/assets/colab-badge.svg\" alt=\"Open In Colab\"/></a>"
      ]
    },
    {
      "cell_type": "code",
      "execution_count": 1,
      "metadata": {
        "id": "MhF0DNQkKWqW"
      },
      "outputs": [],
      "source": [
        "import pandas as pd\n",
        "\n",
        "match_data = pd.read_csv('https://raw.githubusercontent.com/u-10bei/J-League_Ratings/main/data/match_result.csv')"
      ]
    },
    {
      "cell_type": "code",
      "source": [
        "team_home = match_data.loc[:,['home_team','match_day']]\n",
        "team_home.rename(columns={'home_team':'team'}, inplace=True)\n",
        "team_away = match_data.loc[:,['away_team','match_day']]\n",
        "team_away.rename(columns={'away_team':'team'}, inplace=True)\n",
        "team_data = pd.concat([team_home, team_away])"
      ],
      "metadata": {
        "id": "gHcJe9P2LUVD"
      },
      "execution_count": null,
      "outputs": []
    },
    {
      "cell_type": "code",
      "source": [
        "team_min = team_data.groupby('team').min()\n",
        "team_min.rename(columns={'match_day':'oldest'}, inplace=True)\n",
        "team_max = team_data.groupby('team').max()\n",
        "team_max.rename(columns={'match_day':'newest'}, inplace=True)\n",
        "team_master = pd.concat([team_min,team_max],axis=1,join='inner')"
      ],
      "metadata": {
        "id": "QMBe7J8bOTJR"
      },
      "execution_count": null,
      "outputs": []
    },
    {
      "cell_type": "code",
      "source": [
        "team_master.to_csv('/content/drive/MyDrive/data/team_master.csv')"
      ],
      "metadata": {
        "id": "yRNOT2vuRfyO"
      },
      "execution_count": null,
      "outputs": []
    }
  ]
}